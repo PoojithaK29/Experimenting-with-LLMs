{
 "cells": [
  {
   "cell_type": "code",
   "execution_count": null,
   "metadata": {},
   "outputs": [],
   "source": [
    "#Query rewriting"
   ]
  },
  {
   "cell_type": "markdown",
   "metadata": {},
   "source": [
    "Query rewriting is a technique used to **enhance the specificity and relevance of a user's query** to improve retrieval in a RAG system. The goal is to reformulate the query so that it is more detailed and aligned with the type of information the system is likely to retrieve."
   ]
  },
  {
   "cell_type": "markdown",
   "metadata": {},
   "source": [
    "#Steps:\n",
    "\n",
    "**Original Query:** The initial query provided by the user, which may be broad or ambiguous.\n",
    "**Rewritten Query:** A more specific version of the original query, aimed at retrieving more relevant and precise information."
   ]
  },
  {
   "cell_type": "code",
   "execution_count": null,
   "metadata": {},
   "outputs": [],
   "source": [
    "import ollama\n",
    "from langchain.prompts import PromptTemplate\n",
    "import gradio as gr\n",
    "\n",
    "# Set up the Ollama model for embeddings and chat\n",
    "embeddings = OllamaEmbeddings(model=\"nomic-embed-text\")\n",
    "\n",
    "# Define the query rewriting model\n",
    "rewrite_llm = ollama.chat(model='llama3')\n",
    "\n",
    "# Create a prompt template for query rewriting\n",
    "query_rewrite_template = \"\"\"You are an AI assistant tasked with reformulating user queries to improve retrieval in a RAG system. \n",
    "Given the original query, rewrite it to be more specific, detailed, and likely to retrieve relevant information.\n",
    "\n",
    "Original query: {original_query}\n",
    "\n",
    "Rewritten query:\"\"\"\n",
    "\n",
    "query_rewrite_prompt = PromptTemplate(\n",
    "    input_variables=[\"original_query\"],\n",
    "    template=query_rewrite_template\n",
    ")\n",
    "\n",
    "# Function to rewrite the query using the open-source Ollama model\n",
    "def rewrite_query(original_query):\n",
    "    \"\"\"\n",
    "    Rewrite the original query to improve retrieval.\n",
    "    \n",
    "    Args:\n",
    "    original_query (str): The original user query\n",
    "    \n",
    "    Returns:\n",
    "    str: The rewritten query\n",
    "    \"\"\"\n",
    "    # Generate the rewritten query using the Ollama LLM\n",
    "    response = rewrite_llm.invoke({\"prompt\": query_rewrite_template.format(original_query=original_query)})\n",
    "    return response['content'].strip()\n",
    "\n",
    "# Example use case: Rewriting a query about climate change\n",
    "original_query = \"What are the impacts of climate change on the environment?\"\n",
    "rewritten_query = rewrite_query(original_query)\n",
    "print(\"Original query:\", original_query)\n",
    "print(\"\\nRewritten query:\", rewritten_query)\n"
   ]
  },
  {
   "cell_type": "markdown",
   "metadata": {},
   "source": [
    "**Original Query:**\n",
    "\"What is generative AI?\"\n",
    "\n",
    "**Rewritten Query:**\n",
    "\"What are the key principles, applications, and examples of generative AI, and how does it differ from traditional AI techniques?"
   ]
  },
  {
   "cell_type": "markdown",
   "metadata": {},
   "source": [
    "**#Advantages of Query Rewriting**\n",
    "\n",
    "**Improved Relevance:**\n",
    "\n",
    "By making queries more specific and detailed, query rewriting can lead to the retrieval of more relevant documents or information. This helps users get answers that are more aligned with their original intent.\n",
    "\n",
    "**Handling Ambiguity:**\n",
    "\n",
    "Ambiguous queries can be clarified through rewriting, reducing the chances of retrieving irrelevant or unrelated information. This is especially useful when users are unsure how to phrase their queries effectively.\n",
    "\n",
    "**Better Retrieval in Complex Queries:**\n",
    "\n",
    "For complex or multifaceted queries, rewriting can help break down the query into more manageable components, increasing the likelihood of retrieving comprehensive information that covers all aspects of the query.\n",
    "\n",
    "**Enhanced User Experience:**\n",
    "\n",
    "Users often struggle with formulating effective queries. Query rewriting can bridge the gap between a user's initial query and the way information is stored or indexed, resulting in a better overall user experience.\n",
    "\n",
    "**Reduction of Search Iterations:**\n",
    "\n",
    "By reformulating the query to be more precise, users may find the information they need in fewer search iterations, saving time and effort.\n",
    "\n",
    "**Support for Diverse Query Types:**\n",
    "\n",
    "Query rewriting can adapt to different query types (e.g., broad vs. narrow, vague vs. specific), making it versatile for various retrieval scenarios.\n",
    "\n",
    "**#Disadvantages of Query Rewriting**\n",
    "\n",
    "**Risk of Misinterpretation:**\n",
    "\n",
    "There is a risk that the rewritten query may not accurately reflect the user's original intent, leading to the retrieval of information that is less relevant or even completely off-topic.\n",
    "\n",
    "**Increased Computational Overhead:**\n",
    "\n",
    "Query rewriting requires additional processing steps, which can increase computational overhead and latency in the retrieval process, particularly in real-time systems.\n",
    "\n",
    "**Over-Specificity:**\n",
    "\n",
    "Making a query too specific might limit the scope of retrieved information, potentially missing out on broader or related content that could be valuable.\n",
    "\n",
    "**Dependence on the Rewriting Algorithm:**\n",
    "\n",
    "The effectiveness of query rewriting heavily depends on the quality and accuracy of the underlying rewriting algorithm or model. Poorly designed or trained models might generate ineffective rewrites.\n",
    "\n",
    "**Complexity in Implementation:**\n",
    "\n",
    "Implementing effective query rewriting requires sophisticated algorithms and natural language processing (NLP) techniques, which can be complex to develop and maintain.\n",
    "\n",
    "**Potential for Overloading Users with Information:**\n",
    "\n",
    "If the rewritten query retrieves too much detailed information, it might overwhelm the user, especially if the original query was intended to be broad or exploratory.\n",
    "\n",
    "**User Trust and Transparency Issues:**\n",
    "\n",
    "Users might not always trust or understand why their query was rewritten, especially if the rewritten query is not shown to them. Lack of transparency can lead to dissatisfaction or mistrust in the system."
   ]
  }
 ],
 "metadata": {
  "kernelspec": {
   "display_name": "Python 3",
   "language": "python",
   "name": "python3"
  },
  "language_info": {
   "codemirror_mode": {
    "name": "ipython",
    "version": 3
   },
   "file_extension": ".py",
   "mimetype": "text/x-python",
   "name": "python",
   "nbconvert_exporter": "python",
   "pygments_lexer": "ipython3",
   "version": "3.10.0"
  }
 },
 "nbformat": 4,
 "nbformat_minor": 2
}
